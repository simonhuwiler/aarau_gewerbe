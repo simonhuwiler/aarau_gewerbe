{
 "cells": [
  {
   "cell_type": "markdown",
   "metadata": {},
   "source": [
    "# 2. Export loaded Detail Data"
   ]
  },
  {
   "cell_type": "code",
   "execution_count": 1,
   "metadata": {},
   "outputs": [],
   "source": [
    "import pandas as pd\n",
    "from bs4 import BeautifulSoup\n",
    "import requests\n",
    "import re"
   ]
  },
  {
   "cell_type": "code",
   "execution_count": 3,
   "metadata": {},
   "outputs": [],
   "source": [
    "folder = 'export/detail/'\n",
    "\n",
    "df = pd.read_csv('export/0. adressen.csv')"
   ]
  },
  {
   "cell_type": "code",
   "execution_count": 32,
   "metadata": {},
   "outputs": [],
   "source": [
    "re_telefon = text=re.compile(\"Telefon (.*)\")\n",
    "re_fax = text=re.compile(\"Fax (.*)\")\n",
    "\n",
    "for i, row in df.iterrows():\n",
    "    \n",
    "    try:\n",
    "        path = 'dump.html'\n",
    "        f = open(folder + str(row['id']) + '.html', \"r\")\n",
    "        data = f.read()\n",
    "        soup = BeautifulSoup(data, 'html.parser')\n",
    "\n",
    "        table = soup.find(class_ = 'mitglied')\n",
    "\n",
    "        #Ansprechperson\n",
    "        td_ansprechperson = table.find('td', text='Ansprechperson')\n",
    "        df.loc[i, 'ansprechperson'] = td_ansprechperson.parent.find_all('td')[1].text\n",
    "\n",
    "        #Email\n",
    "        td_email = table.find('td', text='Email')\n",
    "        if td_email:\n",
    "            df.loc[i, 'email'] = td_email.parent.find_all('td')[1].text\n",
    "\n",
    "        address = soup.find('address')\n",
    "\n",
    "        #Telefon\n",
    "        dom_telefon = address.find(\"li\", text=re_telefon)\n",
    "        if dom_telefon:\n",
    "            s_telefon = re.search(re_telefon, dom_telefon.text)\n",
    "            df.loc[i, 'telefon'] = s_telefon.group(1)\n",
    "\n",
    "        #Telefax\n",
    "        dom_fax = address.find(\"li\", text=re_fax)\n",
    "        if dom_fax:\n",
    "            s_fax = re.search(re_fax, dom_fax.text)\n",
    "            df.loc[i, 'telefax'] = s_fax.group(1)\n",
    "\n",
    "        f.close()\n",
    "    except:\n",
    "        print(row['id'])\n",
    "        raise"
   ]
  },
  {
   "cell_type": "code",
   "execution_count": 35,
   "metadata": {},
   "outputs": [],
   "source": [
    "df.to_csv('export/1. addressen final.csv', index=False)"
   ]
  },
  {
   "cell_type": "code",
   "execution_count": null,
   "metadata": {},
   "outputs": [],
   "source": []
  }
 ],
 "metadata": {
  "kernelspec": {
   "display_name": "Python 3",
   "language": "python",
   "name": "python3"
  },
  "language_info": {
   "codemirror_mode": {
    "name": "ipython",
    "version": 3
   },
   "file_extension": ".py",
   "mimetype": "text/x-python",
   "name": "python",
   "nbconvert_exporter": "python",
   "pygments_lexer": "ipython3",
   "version": "3.6.5"
  }
 },
 "nbformat": 4,
 "nbformat_minor": 2
}
