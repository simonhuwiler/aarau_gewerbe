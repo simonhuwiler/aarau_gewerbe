{
 "cells": [
  {
   "cell_type": "markdown",
   "metadata": {},
   "source": [
    "# 0. Saves gewerbe-aarau.ch to csv"
   ]
  },
  {
   "cell_type": "code",
   "execution_count": 18,
   "metadata": {},
   "outputs": [],
   "source": [
    "import pandas as pd\n",
    "from bs4 import BeautifulSoup\n",
    "import requests\n",
    "import re"
   ]
  },
  {
   "cell_type": "markdown",
   "metadata": {},
   "source": [
    "## By Dump"
   ]
  },
  {
   "cell_type": "code",
   "execution_count": 6,
   "metadata": {},
   "outputs": [],
   "source": [
    "path = 'dump.html'\n",
    "f = open(path, \"r\")\n",
    "data = f.read()"
   ]
  },
  {
   "cell_type": "markdown",
   "metadata": {},
   "source": [
    "## By URL"
   ]
  },
  {
   "cell_type": "code",
   "execution_count": 2,
   "metadata": {},
   "outputs": [],
   "source": [
    "# From URL\n",
    "url = 'https://www.gewerbe-aarau.ch/mitglieder/searchByString'\n",
    "r = requests.get(url)\n",
    "data = r.text"
   ]
  },
  {
   "cell_type": "markdown",
   "metadata": {},
   "source": [
    "## Export"
   ]
  },
  {
   "cell_type": "code",
   "execution_count": 3,
   "metadata": {},
   "outputs": [],
   "source": [
    "soup = BeautifulSoup(data, 'html.parser')"
   ]
  },
  {
   "cell_type": "code",
   "execution_count": 38,
   "metadata": {},
   "outputs": [],
   "source": [
    "df = pd.DataFrame({})\n",
    "for dom in soup.find_all(class_='vcard'):\n",
    "    h4 = dom.find('h4')\n",
    "    \n",
    "    #Address\n",
    "    address = \"\"\n",
    "    for li in dom.find_all(\"li\"):\n",
    "        if li.text != \"\":\n",
    "            address += li.text + \"\\n\"\n",
    "    address = address[0:-1]\n",
    "    \n",
    "    id_ = x = re.search(\"\\/([\\d]*)\\/\", h4.find(\"a\")['href'])\n",
    "    \n",
    "    df = df.append({\n",
    "        'beschreibung': dom.find(\"p\").text,\n",
    "        'name': h4.find(\"a\").text,\n",
    "        'branche': h4.find(\"small\").text,\n",
    "        'adresse': address,\n",
    "        'id': id_.group(1)\n",
    "    }, ignore_index= True)\n"
   ]
  },
  {
   "cell_type": "code",
   "execution_count": 39,
   "metadata": {},
   "outputs": [],
   "source": [
    "df = df[['name', 'branche', 'beschreibung', 'adresse', 'id']]\n",
    "\n",
    "df.to_csv('export/0. adressen.csv', index=False)"
   ]
  },
  {
   "cell_type": "code",
   "execution_count": 40,
   "metadata": {},
   "outputs": [
    {
     "data": {
      "text/plain": [
       "312"
      ]
     },
     "execution_count": 40,
     "metadata": {},
     "output_type": "execute_result"
    }
   ],
   "source": [
    "len(df)"
   ]
  },
  {
   "cell_type": "code",
   "execution_count": null,
   "metadata": {},
   "outputs": [],
   "source": []
  }
 ],
 "metadata": {
  "kernelspec": {
   "display_name": "Python 3",
   "language": "python",
   "name": "python3"
  },
  "language_info": {
   "codemirror_mode": {
    "name": "ipython",
    "version": 3
   },
   "file_extension": ".py",
   "mimetype": "text/x-python",
   "name": "python",
   "nbconvert_exporter": "python",
   "pygments_lexer": "ipython3",
   "version": "3.6.5"
  }
 },
 "nbformat": 4,
 "nbformat_minor": 2
}
